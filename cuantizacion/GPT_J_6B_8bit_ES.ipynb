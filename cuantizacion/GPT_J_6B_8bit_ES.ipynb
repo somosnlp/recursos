{
  "nbformat": 4,
  "nbformat_minor": 0,
  "metadata": {
    "colab": {
      "name": "Spanish-GPT-J-6B-8bit.ipynb",
      "provenance": [],
      "collapsed_sections": [],
      "machine_shape": "hm",
      "include_colab_link": true
    },
    "kernelspec": {
      "name": "python3",
      "display_name": "Python 3"
    },
    "language_info": {
      "name": "python"
    },
    "accelerator": "GPU",
    "widgets": {
      "application/vnd.jupyter.widget-state+json": {
        "3b354e5db9bb462dbc60e13a5302388b": {
          "model_module": "@jupyter-widgets/controls",
          "model_name": "HBoxModel",
          "model_module_version": "1.5.0",
          "state": {
            "_dom_classes": [],
            "_model_module": "@jupyter-widgets/controls",
            "_model_module_version": "1.5.0",
            "_model_name": "HBoxModel",
            "_view_count": null,
            "_view_module": "@jupyter-widgets/controls",
            "_view_module_version": "1.5.0",
            "_view_name": "HBoxView",
            "box_style": "",
            "children": [
              "IPY_MODEL_cfc7dd89a25243519bbfdb3d1741f3b7",
              "IPY_MODEL_c9786564c94c400ba59befbeb2484718",
              "IPY_MODEL_b23669a67d5f4bfc8a3df6b82d0cc0fe"
            ],
            "layout": "IPY_MODEL_073e80247a2a46fda0d6d73175d374a2"
          }
        },
        "cfc7dd89a25243519bbfdb3d1741f3b7": {
          "model_module": "@jupyter-widgets/controls",
          "model_name": "HTMLModel",
          "model_module_version": "1.5.0",
          "state": {
            "_dom_classes": [],
            "_model_module": "@jupyter-widgets/controls",
            "_model_module_version": "1.5.0",
            "_model_name": "HTMLModel",
            "_view_count": null,
            "_view_module": "@jupyter-widgets/controls",
            "_view_module_version": "1.5.0",
            "_view_name": "HTMLView",
            "description": "",
            "description_tooltip": null,
            "layout": "IPY_MODEL_7254d7f2f786449c8c6616244cd6e492",
            "placeholder": "​",
            "style": "IPY_MODEL_ef1d34c16b4e4f4291ac1c09bd217635",
            "value": "100%"
          }
        },
        "c9786564c94c400ba59befbeb2484718": {
          "model_module": "@jupyter-widgets/controls",
          "model_name": "FloatProgressModel",
          "model_module_version": "1.5.0",
          "state": {
            "_dom_classes": [],
            "_model_module": "@jupyter-widgets/controls",
            "_model_module_version": "1.5.0",
            "_model_name": "FloatProgressModel",
            "_view_count": null,
            "_view_module": "@jupyter-widgets/controls",
            "_view_module_version": "1.5.0",
            "_view_name": "ProgressView",
            "bar_style": "success",
            "description": "",
            "description_tooltip": null,
            "layout": "IPY_MODEL_a6e8d510cd2d43bf97c99ca70c37bf3a",
            "max": 49,
            "min": 0,
            "orientation": "horizontal",
            "style": "IPY_MODEL_a59c626d9fbf43dd9edf77ce62f2b155",
            "value": 49
          }
        },
        "b23669a67d5f4bfc8a3df6b82d0cc0fe": {
          "model_module": "@jupyter-widgets/controls",
          "model_name": "HTMLModel",
          "model_module_version": "1.5.0",
          "state": {
            "_dom_classes": [],
            "_model_module": "@jupyter-widgets/controls",
            "_model_module_version": "1.5.0",
            "_model_name": "HTMLModel",
            "_view_count": null,
            "_view_module": "@jupyter-widgets/controls",
            "_view_module_version": "1.5.0",
            "_view_name": "HTMLView",
            "description": "",
            "description_tooltip": null,
            "layout": "IPY_MODEL_2de45259c3f64ae7a1b98aa74ec629f6",
            "placeholder": "​",
            "style": "IPY_MODEL_f21ca1e656ff42648dcb0ba75484f3c6",
            "value": " 49/49 [13:12&lt;00:00, 16.32s/it]"
          }
        },
        "073e80247a2a46fda0d6d73175d374a2": {
          "model_module": "@jupyter-widgets/base",
          "model_name": "LayoutModel",
          "model_module_version": "1.2.0",
          "state": {
            "_model_module": "@jupyter-widgets/base",
            "_model_module_version": "1.2.0",
            "_model_name": "LayoutModel",
            "_view_count": null,
            "_view_module": "@jupyter-widgets/base",
            "_view_module_version": "1.2.0",
            "_view_name": "LayoutView",
            "align_content": null,
            "align_items": null,
            "align_self": null,
            "border": null,
            "bottom": null,
            "display": null,
            "flex": null,
            "flex_flow": null,
            "grid_area": null,
            "grid_auto_columns": null,
            "grid_auto_flow": null,
            "grid_auto_rows": null,
            "grid_column": null,
            "grid_gap": null,
            "grid_row": null,
            "grid_template_areas": null,
            "grid_template_columns": null,
            "grid_template_rows": null,
            "height": null,
            "justify_content": null,
            "justify_items": null,
            "left": null,
            "margin": null,
            "max_height": null,
            "max_width": null,
            "min_height": null,
            "min_width": null,
            "object_fit": null,
            "object_position": null,
            "order": null,
            "overflow": null,
            "overflow_x": null,
            "overflow_y": null,
            "padding": null,
            "right": null,
            "top": null,
            "visibility": null,
            "width": null
          }
        },
        "7254d7f2f786449c8c6616244cd6e492": {
          "model_module": "@jupyter-widgets/base",
          "model_name": "LayoutModel",
          "model_module_version": "1.2.0",
          "state": {
            "_model_module": "@jupyter-widgets/base",
            "_model_module_version": "1.2.0",
            "_model_name": "LayoutModel",
            "_view_count": null,
            "_view_module": "@jupyter-widgets/base",
            "_view_module_version": "1.2.0",
            "_view_name": "LayoutView",
            "align_content": null,
            "align_items": null,
            "align_self": null,
            "border": null,
            "bottom": null,
            "display": null,
            "flex": null,
            "flex_flow": null,
            "grid_area": null,
            "grid_auto_columns": null,
            "grid_auto_flow": null,
            "grid_auto_rows": null,
            "grid_column": null,
            "grid_gap": null,
            "grid_row": null,
            "grid_template_areas": null,
            "grid_template_columns": null,
            "grid_template_rows": null,
            "height": null,
            "justify_content": null,
            "justify_items": null,
            "left": null,
            "margin": null,
            "max_height": null,
            "max_width": null,
            "min_height": null,
            "min_width": null,
            "object_fit": null,
            "object_position": null,
            "order": null,
            "overflow": null,
            "overflow_x": null,
            "overflow_y": null,
            "padding": null,
            "right": null,
            "top": null,
            "visibility": null,
            "width": null
          }
        },
        "ef1d34c16b4e4f4291ac1c09bd217635": {
          "model_module": "@jupyter-widgets/controls",
          "model_name": "DescriptionStyleModel",
          "model_module_version": "1.5.0",
          "state": {
            "_model_module": "@jupyter-widgets/controls",
            "_model_module_version": "1.5.0",
            "_model_name": "DescriptionStyleModel",
            "_view_count": null,
            "_view_module": "@jupyter-widgets/base",
            "_view_module_version": "1.2.0",
            "_view_name": "StyleView",
            "description_width": ""
          }
        },
        "a6e8d510cd2d43bf97c99ca70c37bf3a": {
          "model_module": "@jupyter-widgets/base",
          "model_name": "LayoutModel",
          "model_module_version": "1.2.0",
          "state": {
            "_model_module": "@jupyter-widgets/base",
            "_model_module_version": "1.2.0",
            "_model_name": "LayoutModel",
            "_view_count": null,
            "_view_module": "@jupyter-widgets/base",
            "_view_module_version": "1.2.0",
            "_view_name": "LayoutView",
            "align_content": null,
            "align_items": null,
            "align_self": null,
            "border": null,
            "bottom": null,
            "display": null,
            "flex": null,
            "flex_flow": null,
            "grid_area": null,
            "grid_auto_columns": null,
            "grid_auto_flow": null,
            "grid_auto_rows": null,
            "grid_column": null,
            "grid_gap": null,
            "grid_row": null,
            "grid_template_areas": null,
            "grid_template_columns": null,
            "grid_template_rows": null,
            "height": null,
            "justify_content": null,
            "justify_items": null,
            "left": null,
            "margin": null,
            "max_height": null,
            "max_width": null,
            "min_height": null,
            "min_width": null,
            "object_fit": null,
            "object_position": null,
            "order": null,
            "overflow": null,
            "overflow_x": null,
            "overflow_y": null,
            "padding": null,
            "right": null,
            "top": null,
            "visibility": null,
            "width": null
          }
        },
        "a59c626d9fbf43dd9edf77ce62f2b155": {
          "model_module": "@jupyter-widgets/controls",
          "model_name": "ProgressStyleModel",
          "model_module_version": "1.5.0",
          "state": {
            "_model_module": "@jupyter-widgets/controls",
            "_model_module_version": "1.5.0",
            "_model_name": "ProgressStyleModel",
            "_view_count": null,
            "_view_module": "@jupyter-widgets/base",
            "_view_module_version": "1.2.0",
            "_view_name": "StyleView",
            "bar_color": null,
            "description_width": ""
          }
        },
        "2de45259c3f64ae7a1b98aa74ec629f6": {
          "model_module": "@jupyter-widgets/base",
          "model_name": "LayoutModel",
          "model_module_version": "1.2.0",
          "state": {
            "_model_module": "@jupyter-widgets/base",
            "_model_module_version": "1.2.0",
            "_model_name": "LayoutModel",
            "_view_count": null,
            "_view_module": "@jupyter-widgets/base",
            "_view_module_version": "1.2.0",
            "_view_name": "LayoutView",
            "align_content": null,
            "align_items": null,
            "align_self": null,
            "border": null,
            "bottom": null,
            "display": null,
            "flex": null,
            "flex_flow": null,
            "grid_area": null,
            "grid_auto_columns": null,
            "grid_auto_flow": null,
            "grid_auto_rows": null,
            "grid_column": null,
            "grid_gap": null,
            "grid_row": null,
            "grid_template_areas": null,
            "grid_template_columns": null,
            "grid_template_rows": null,
            "height": null,
            "justify_content": null,
            "justify_items": null,
            "left": null,
            "margin": null,
            "max_height": null,
            "max_width": null,
            "min_height": null,
            "min_width": null,
            "object_fit": null,
            "object_position": null,
            "order": null,
            "overflow": null,
            "overflow_x": null,
            "overflow_y": null,
            "padding": null,
            "right": null,
            "top": null,
            "visibility": null,
            "width": null
          }
        },
        "f21ca1e656ff42648dcb0ba75484f3c6": {
          "model_module": "@jupyter-widgets/controls",
          "model_name": "DescriptionStyleModel",
          "model_module_version": "1.5.0",
          "state": {
            "_model_module": "@jupyter-widgets/controls",
            "_model_module_version": "1.5.0",
            "_model_name": "DescriptionStyleModel",
            "_view_count": null,
            "_view_module": "@jupyter-widgets/base",
            "_view_module_version": "1.2.0",
            "_view_name": "StyleView",
            "description_width": ""
          }
        }
      }
    }
  },
  "cells": [
    {
      "cell_type": "markdown",
      "metadata": {
        "id": "view-in-github",
        "colab_type": "text"
      },
      "source": [
        "<a href=\"https://colab.research.google.com/github/somosnlp/recursos-nlp-es/blob/main/cuantizacion/GPT_J_6B_8bit_ES.ipynb\" target=\"_parent\"><img src=\"https://colab.research.google.com/assets/colab-badge.svg\" alt=\"Open In Colab\"/></a>"
      ]
    },
    {
      "cell_type": "markdown",
      "metadata": {
        "id": "kLzX_EPqAnEW"
      },
      "source": [
        "# Playing with Spanish 6-Billion GPT-J (8-bit quantized)\n",
        "\n",
        "> by [@mrm8488](https://twitter.com/mrm8488)"
      ]
    },
    {
      "cell_type": "code",
      "source": [
        "! nvidia-smi"
      ],
      "metadata": {
        "id": "jy1hn5_TXbG5",
        "outputId": "1c87fc40-50bc-4f15-8b45-05c59abed63f",
        "colab": {
          "base_uri": "https://localhost:8080/"
        }
      },
      "execution_count": null,
      "outputs": [
        {
          "output_type": "stream",
          "name": "stdout",
          "text": [
            "Tue Aug  9 15:34:37 2022       \n",
            "+-----------------------------------------------------------------------------+\n",
            "| NVIDIA-SMI 460.32.03    Driver Version: 460.32.03    CUDA Version: 11.2     |\n",
            "|-------------------------------+----------------------+----------------------+\n",
            "| GPU  Name        Persistence-M| Bus-Id        Disp.A | Volatile Uncorr. ECC |\n",
            "| Fan  Temp  Perf  Pwr:Usage/Cap|         Memory-Usage | GPU-Util  Compute M. |\n",
            "|                               |                      |               MIG M. |\n",
            "|===============================+======================+======================|\n",
            "|   0  Tesla P100-PCIE...  Off  | 00000000:00:04.0 Off |                    0 |\n",
            "| N/A   45C    P0    30W / 250W |      0MiB / 16280MiB |      0%      Default |\n",
            "|                               |                      |                  N/A |\n",
            "+-------------------------------+----------------------+----------------------+\n",
            "                                                                               \n",
            "+-----------------------------------------------------------------------------+\n",
            "| Processes:                                                                  |\n",
            "|  GPU   GI   CI        PID   Type   Process name                  GPU Memory |\n",
            "|        ID   ID                                                   Usage      |\n",
            "|=============================================================================|\n",
            "|  No running processes found                                                 |\n",
            "+-----------------------------------------------------------------------------+\n"
          ]
        }
      ]
    },
    {
      "cell_type": "code",
      "execution_count": null,
      "metadata": {
        "colab": {
          "base_uri": "https://localhost:8080/"
        },
        "id": "Op0GXmC8CCyR",
        "outputId": "8bb9d2fb-1451-4093-d9b3-8cb37c42e802"
      },
      "outputs": [
        {
          "output_type": "stream",
          "name": "stdout",
          "text": [
            "Looking in indexes: https://pypi.org/simple, https://us-python.pkg.dev/colab-wheels/public/simple/\n",
            "Requirement already satisfied: transformers==4.14.1 in /usr/local/lib/python3.7/dist-packages (4.14.1)\n",
            "Requirement already satisfied: packaging>=20.0 in /usr/local/lib/python3.7/dist-packages (from transformers==4.14.1) (21.3)\n",
            "Requirement already satisfied: regex!=2019.12.17 in /usr/local/lib/python3.7/dist-packages (from transformers==4.14.1) (2022.6.2)\n",
            "Requirement already satisfied: numpy>=1.17 in /usr/local/lib/python3.7/dist-packages (from transformers==4.14.1) (1.21.6)\n",
            "Requirement already satisfied: filelock in /usr/local/lib/python3.7/dist-packages (from transformers==4.14.1) (3.7.1)\n",
            "Requirement already satisfied: tokenizers<0.11,>=0.10.1 in /usr/local/lib/python3.7/dist-packages (from transformers==4.14.1) (0.10.3)\n",
            "Requirement already satisfied: requests in /usr/local/lib/python3.7/dist-packages (from transformers==4.14.1) (2.23.0)\n",
            "Requirement already satisfied: huggingface-hub<1.0,>=0.1.0 in /usr/local/lib/python3.7/dist-packages (from transformers==4.14.1) (0.8.1)\n",
            "Requirement already satisfied: importlib-metadata in /usr/local/lib/python3.7/dist-packages (from transformers==4.14.1) (4.12.0)\n",
            "Requirement already satisfied: tqdm>=4.27 in /usr/local/lib/python3.7/dist-packages (from transformers==4.14.1) (4.64.0)\n",
            "Requirement already satisfied: pyyaml>=5.1 in /usr/local/lib/python3.7/dist-packages (from transformers==4.14.1) (6.0)\n",
            "Requirement already satisfied: sacremoses in /usr/local/lib/python3.7/dist-packages (from transformers==4.14.1) (0.0.53)\n",
            "Requirement already satisfied: typing-extensions>=3.7.4.3 in /usr/local/lib/python3.7/dist-packages (from huggingface-hub<1.0,>=0.1.0->transformers==4.14.1) (4.1.1)\n",
            "Requirement already satisfied: pyparsing!=3.0.5,>=2.0.2 in /usr/local/lib/python3.7/dist-packages (from packaging>=20.0->transformers==4.14.1) (3.0.9)\n",
            "Requirement already satisfied: zipp>=0.5 in /usr/local/lib/python3.7/dist-packages (from importlib-metadata->transformers==4.14.1) (3.8.1)\n",
            "Requirement already satisfied: idna<3,>=2.5 in /usr/local/lib/python3.7/dist-packages (from requests->transformers==4.14.1) (2.10)\n",
            "Requirement already satisfied: urllib3!=1.25.0,!=1.25.1,<1.26,>=1.21.1 in /usr/local/lib/python3.7/dist-packages (from requests->transformers==4.14.1) (1.24.3)\n",
            "Requirement already satisfied: certifi>=2017.4.17 in /usr/local/lib/python3.7/dist-packages (from requests->transformers==4.14.1) (2022.6.15)\n",
            "Requirement already satisfied: chardet<4,>=3.0.2 in /usr/local/lib/python3.7/dist-packages (from requests->transformers==4.14.1) (3.0.4)\n",
            "Requirement already satisfied: click in /usr/local/lib/python3.7/dist-packages (from sacremoses->transformers==4.14.1) (7.1.2)\n",
            "Requirement already satisfied: joblib in /usr/local/lib/python3.7/dist-packages (from sacremoses->transformers==4.14.1) (1.1.0)\n",
            "Requirement already satisfied: six in /usr/local/lib/python3.7/dist-packages (from sacremoses->transformers==4.14.1) (1.15.0)\n",
            "Looking in indexes: https://pypi.org/simple, https://us-python.pkg.dev/colab-wheels/public/simple/\n",
            "Collecting http://35.184.69.80/root/pypi/+f/01a/9628eee5d6858/bitsandbytes-cuda111-0.26.0.tar.gz\n",
            "  Downloading http://35.184.69.80/root/pypi/+f/01a/9628eee5d6858/bitsandbytes-cuda111-0.26.0.tar.gz (3.9 MB)\n",
            "\u001b[K     |████████████████████████████████| 3.9 MB 303 kB/s \n",
            "\u001b[?25h  Installing build dependencies ... \u001b[?25l\u001b[?25hdone\n",
            "  Getting requirements to build wheel ... \u001b[?25l\u001b[?25hdone\n",
            "    Preparing wheel metadata ... \u001b[?25l\u001b[?25hdone\n",
            "Building wheels for collected packages: bitsandbytes-cuda11.1.1\n",
            "  Building wheel for bitsandbytes-cuda11.1.1 (PEP 517) ... \u001b[?25l\u001b[?25hdone\n",
            "  Created wheel for bitsandbytes-cuda11.1.1: filename=bitsandbytes_cuda11.1.1-0.26.0-py3-none-any.whl size=3985724 sha256=0e0b41581d09f9048a7010145a9ccaff14449ee220c1f51b7945632e9a460e1e\n",
            "  Stored in directory: /root/.cache/pip/wheels/93/02/4e/d54aafb3d81e795aae3d1193a5423c3fa563be41ac9f89212e\n",
            "Successfully built bitsandbytes-cuda11.1.1\n",
            "Installing collected packages: bitsandbytes-cuda11.1.1\n",
            "Successfully installed bitsandbytes-cuda11.1.1-0.26.0\n"
          ]
        }
      ],
      "source": [
        "!pip install transformers==4.14.1\n",
        "!pip install http://35.184.69.80/root/pypi/+f/01a/9628eee5d6858/bitsandbytes-cuda111-0.26.0.tar.gz"
      ]
    },
    {
      "cell_type": "code",
      "execution_count": null,
      "metadata": {
        "id": "p0dy1ZFwClcq"
      },
      "outputs": [],
      "source": [
        "import transformers\n",
        "import torch"
      ]
    },
    {
      "cell_type": "markdown",
      "metadata": {
        "id": "GODiktIBFt4w"
      },
      "source": [
        "### Converting the model to 8 bits.\n",
        "\n",
        "We convert EleutherAI's GPT-J-6B model to 8 bits using facebook's [bitsandbytes](https://github.com/facebookresearch/bitsandbytes) library. This reduces the model's size from 20Gb down to just 6Gb.\n",
        "\n",
        "Note that we don't convert linear layer biases to 8 bit as they take up less that 1% of the model's weight anyway."
      ]
    },
    {
      "cell_type": "code",
      "source": [
        "! wget https://huggingface.co/mrm8488/bertin-gpt-j-6B-ES-8bit/resolve/main/Utils.py -O Utils.py"
      ],
      "metadata": {
        "colab": {
          "base_uri": "https://localhost:8080/"
        },
        "id": "BecZDZ2lelN_",
        "outputId": "bb3a2d46-3604-48cc-b00b-57d6f6f0eb44"
      },
      "execution_count": null,
      "outputs": [
        {
          "output_type": "stream",
          "name": "stdout",
          "text": [
            "--2022-08-09 15:33:22--  https://huggingface.co/mrm8488/bertin-gpt-j-6B-ES-8bit/resolve/main/Utils.py\n",
            "Resolving huggingface.co (huggingface.co)... 52.2.34.29, 34.231.117.252, 2600:1f18:147f:e850:d57d:d46a:df34:61ee, ...\n",
            "Connecting to huggingface.co (huggingface.co)|52.2.34.29|:443... connected.\n",
            "HTTP request sent, awaiting response... 200 OK\n",
            "Length: 5838 (5.7K) [text/plain]\n",
            "Saving to: ‘Utils.py’\n",
            "\n",
            "Utils.py            100%[===================>]   5.70K  --.-KB/s    in 0s      \n",
            "\n",
            "2022-08-09 15:33:22 (80.2 MB/s) - ‘Utils.py’ saved [5838/5838]\n",
            "\n"
          ]
        }
      ]
    },
    {
      "cell_type": "code",
      "execution_count": null,
      "metadata": {
        "id": "P8Y75B6WDIN-"
      },
      "outputs": [],
      "source": [
        "from Utils import GPTJBlock, GPTJForCausalLM"
      ]
    },
    {
      "cell_type": "code",
      "execution_count": null,
      "metadata": {
        "id": "BOSZ-S1cDRq1"
      },
      "outputs": [],
      "source": [
        "transformers.models.gptj.modeling_gptj.GPTJBlock = GPTJBlock  # monkey-patch GPT-J"
      ]
    },
    {
      "cell_type": "code",
      "execution_count": null,
      "metadata": {
        "id": "DuW4H6HTS82r"
      },
      "outputs": [],
      "source": [
        "device = 'cuda' if torch.cuda.is_available() else 'cpu'\n",
        "\n",
        "CKPT = 'mrm8488/bertin-gpt-j-6B-ES-8bit'\n",
        "\n",
        "tokenizer = transformers.AutoTokenizer.from_pretrained(CKPT)\n",
        "model = GPTJForCausalLM.from_pretrained(CKPT).to(device)"
      ]
    },
    {
      "cell_type": "code",
      "source": [
        "import textwrap"
      ],
      "metadata": {
        "id": "_uABnZ_GbVG1"
      },
      "execution_count": null,
      "outputs": []
    },
    {
      "cell_type": "code",
      "source": [
        "def generate(text: str, max_length: int = 64, do_sample: bool = True, temperature: float = 0.9) -> str:\n",
        "  prompt = tokenizer(text, return_tensors='pt')\n",
        "  features = {key: value.to(device) for key, value in prompt.items()}\n",
        "  out = model.generate(**features, max_length=max_length, do_sample=do_sample, temperature=temperature)\n",
        "  return tokenizer.decode(out[0])"
      ],
      "metadata": {
        "id": "O_UmBxrpo5ru"
      },
      "execution_count": null,
      "outputs": []
    },
    {
      "cell_type": "code",
      "source": [
        "offers = [\n",
        "['¡30% EXTRA! Disfruta de este cupón descuento Venca ¡REBAJAS!',\n",
        " '25% MENOS usando el código descuento Yoins al realizar tu compra',\n",
        " '10% EXTRA en tus compras al aplicar el cupón descuento Samsung',\n",
        " '12% MENOS aplicando este código descuento Sammydress en tu pedido online',\n",
        " '-15% al aplicar este código en todos los productos',\n",
        " '-20% al introducir el código promocional Mister Spex',\n",
        " '-5% aplicando este código promocional MiniInTheBox antes de finalizar tu pedido',\n",
        " '-18% introduciendo el cupón descuento Milanoo de Navidad',\n",
        " '-10% aplicando este código al comprar 3 artículos en la web',\n",
        " '20% MENOS al aplicar el código descuento Miss Hamptons',\n",
        " '70% MENOS para hacer calendarios personalizados para hacer calendarios personalizados para hacer calendarios personalizados para hacer calendarios personalizados con este código Vistaprint',\n",
        " '10% de ahorro en TODA la web aplicando este código descuento Spartoo ¡Limitado!',\n",
        " '20% MENOS al aplicar este código promocional iStock',\n",
        " '8% MENOS en tu alojamiento aplicando este cupón Hoteles.com',\n",
        " '-15% al usar el código promocional Bikeinn del Cyber Monday',\n",
        " '-17% en Yoins introduciendo este código en la web',\n",
        " '15% de rebaja en gaming Omen aplicando este código descuento HP',\n",
        " '20% código descuento Nutritienda en una selección de marcas',\n",
        " '40% MENOS en tus pedidos al aplicar este código promocional Vistaprint',\n",
        " '30% usando este código al comprar álbumes de lujo',\n",
        " '19% de ahorro al aplicar este código descuento Yoins ¡Celebra el Año Nuevo!',\n",
        " '12% código descuento iStock en TODO para nuevos clientes',\n",
        " '-10% usando el código descuento Qatar Airways al reservar desde el móvil',\n",
        " '-40% usando este código descuento Photobox al comprar un álbum de fotos',\n",
        " '-10% aplicando este código ¡Oportunidad Yoins!',\n",
        " '5% código descuento Zoombits en Multicompra',\n",
        " '10% código descuento Animalear',\n",
        " '7% MENOS en tu reserva aplicando este código descuento H10 Hotels',\n",
        " '-10% usando este código al comprar muebles en VidaXL',\n",
        " '25% MENOS al aplicar este cupón La Tostadora',\n",
        " '-8% en electrónica de consumo aplicando este código promocional GearBest',\n",
        " '¡-20% aplicando este cupón descuento Lentes-Shop!',\n",
        " '-20% en tu moda favorita ¡código Venca!',\n",
        " '5% código descuento Agoda para viajar a Shanghai',\n",
        " '10% MENOS en snack para tu mascota aplicando este cupón promocional activo',\n",
        " '10%. 15% o 20% ¡Elige tu cupón Kiwoko y ahorra en el pienso para tu perro!',\n",
        " '¡15% menos con este gran código promocional Runnerinn del Cyber Monday!',\n",
        " '5% EXTRA aplicando este código en TODO',\n",
        " '20% MENOS usando este código al comprar la mejor moda',\n",
        " '30% MENOS en todas las bebidas al aplicar el código promocional Tassimo',\n",
        " '10% MENOS al aplicar este código descuento FocalPrice',\n",
        " '20% MENOS en una gran variedad de lámparas aplicando este cupón',\n",
        " '8% MENOS al aplicar este cupón descuento',\n",
        " '12% MENOS al aplicar este cupón descuento Dosfarma',\n",
        " '15% MENOS al aplicar el cupón descuento Magix',\n",
        " '-5% aplicando este código promocional Spartoo de verano',\n",
        " '20% en Novedades Milano con código promocional Fifty Factory',\n",
        " '20% MENOS al aplicar el código descuento Zavvi en vinilos',\n",
        " '-5% usando este código descuento Zoombits al comprar 2 artículos',\n",
        " '-8% aplicando este código',\n",
        " '20% adicional en en TODA la web si usas el cupón descuento El Armario de la Tele',\n",
        " '5% código descuento en los accesorios de cocina de Zoombits',\n",
        " '20% código descuento Lopesan Hoteles']"
      ],
      "metadata": {
        "id": "8PZhoJGmTRuq"
      },
      "execution_count": null,
      "outputs": []
    },
    {
      "cell_type": "code",
      "source": [
        "text = '''\n",
        "título: 5% código descuento Zoombits en Multicompra\n",
        "oferta: 5% en Multicompra\n",
        "\n",
        "título: -10% usando este cupón descuento Alltricks\n",
        "oferta: -10%\n",
        "\n",
        "título: 10% código descuento Animalear\n",
        "oferta; 10%\n",
        "\n",
        "título: ¡5% adicional utilizando este código descuento Barceló Hoteles!\n",
        "oferta: 5% adicional\n",
        "\n",
        "título: 15% de descuento al utilizar el código promocional Spartoo\n",
        "oferta: 15%\n",
        "\n",
        "título: 25% MENOS utilizando este código descuento Groupon\n",
        "oferta: 25% MENOS\n",
        "\n",
        "título: -25% en la web usando e cupón descuento vistaprint\n",
        "oferta: -25% en la web\n",
        "\n",
        "título: -10% usando este código al comprar muebles en VidaXL\n",
        "oferta: -10% al comprar muebles\n",
        "\n",
        "título: -20% en tu moda favorita ¡código Venca!\n",
        "oferta: -20% en tu moda favorita\n",
        "\n",
        "título: 19% de ahorro al aplicar este código descuento Yoins ¡Celebra el Año Nuevo!\n",
        "oferta: 19% de ahorro\n",
        "\n",
        "título: 8% MENOS en tu alojamiento aplicando este cupón Hoteles.com\n",
        "oferta: 8% MENOS en tu alojamiento\n",
        "\n",
        "título::\n",
        "oferta:'''"
      ],
      "metadata": {
        "id": "IL_C363KRl58"
      },
      "execution_count": null,
      "outputs": []
    },
    {
      "cell_type": "code",
      "source": [
        "from tqdm.notebook import tqdm"
      ],
      "metadata": {
        "id": "p7stT18iX8gQ"
      },
      "execution_count": null,
      "outputs": []
    },
    {
      "cell_type": "code",
      "source": [
        "titles = []\n",
        "ofertas = []\n",
        "for offer in tqdm(offers):\n",
        "  prompt = text.replace('título::', 'título: ' + offer)\n",
        "  response = generate(prompt, 512, True, temperature = 0.8)\n",
        "  print(offer)\n",
        "  print(response.replace(prompt, ''))\n",
        "  print()\n",
        "  print(\"===\")\n",
        "  titles.append(offer)\n",
        "  ofertas.append(response.replace(prompt, '').split('\\n')[0].strip())\n"
      ],
      "metadata": {
        "colab": {
          "base_uri": "https://localhost:8080/",
          "height": 1000,
          "referenced_widgets": [
            "3b354e5db9bb462dbc60e13a5302388b",
            "cfc7dd89a25243519bbfdb3d1741f3b7",
            "c9786564c94c400ba59befbeb2484718",
            "b23669a67d5f4bfc8a3df6b82d0cc0fe",
            "073e80247a2a46fda0d6d73175d374a2",
            "7254d7f2f786449c8c6616244cd6e492",
            "ef1d34c16b4e4f4291ac1c09bd217635",
            "a6e8d510cd2d43bf97c99ca70c37bf3a",
            "a59c626d9fbf43dd9edf77ce62f2b155",
            "2de45259c3f64ae7a1b98aa74ec629f6",
            "f21ca1e656ff42648dcb0ba75484f3c6"
          ]
        },
        "id": "KpeYgdavVYV6",
        "outputId": "4e5b8d07-6ea0-4bf9-c4f2-3891d759017d"
      },
      "execution_count": null,
      "outputs": [
        {
          "output_type": "display_data",
          "data": {
            "text/plain": [
              "  0%|          | 0/49 [00:00<?, ?it/s]"
            ],
            "application/vnd.jupyter.widget-view+json": {
              "version_major": 2,
              "version_minor": 0,
              "model_id": "3b354e5db9bb462dbc60e13a5302388b"
            }
          },
          "metadata": {}
        },
        {
          "output_type": "stream",
          "name": "stderr",
          "text": [
            "Setting `pad_token_id` to `eos_token_id`:50256 for open-end generation.\n",
            "Setting `pad_token_id` to `eos_token_id`:50256 for open-end generation.\n"
          ]
        },
        {
          "output_type": "stream",
          "name": "stdout",
          "text": [
            "10% MENOS usando el cupón descuento Yoins\n",
            " 10% MENOS en tus compras\n",
            "título: 10% de descuento con este cupón descuento vueling\n",
            "oferta: 10% de descuento\n",
            "título: 5% MENOS al comprar en Zalando utilizando este cupón descuento Zalando (Nuevo)\n",
            "of\n",
            "\n",
            "===\n"
          ]
        },
        {
          "output_type": "stream",
          "name": "stderr",
          "text": [
            "Setting `pad_token_id` to `eos_token_id`:50256 for open-end generation.\n"
          ]
        },
        {
          "output_type": "stream",
          "name": "stdout",
          "text": [
            "27% MENOS usando el cupón descuento La Tostadora\n",
            " 27% MENOS en la compra de tus tostadas\n",
            "título: 27% MENOS en tu alojamiento\n",
            "título: -10% con el cupón descuento Groupon\n",
            "oferta: -10% en tu alojamiento\n",
            "título: 27% DE AHOR\n",
            "\n",
            "===\n"
          ]
        },
        {
          "output_type": "stream",
          "name": "stderr",
          "text": [
            "Setting `pad_token_id` to `eos_token_id`:50256 for open-end generation.\n"
          ]
        },
        {
          "output_type": "stream",
          "name": "stdout",
          "text": [
            "10% de ahorro en TODA la web aplicando este código descuento Spartoo ¡Limitado!\n",
            " 10% de ahorro en TODA la web en las rebajas de invierno\n",
            "título: 15% de ahorro en TODA la web en las rebajas de invierno\n",
            "oferta: 15% de ahorro en rebajas de\n",
            "\n",
            "===\n"
          ]
        },
        {
          "output_type": "stream",
          "name": "stderr",
          "text": [
            "Setting `pad_token_id` to `eos_token_id`:50256 for open-end generation.\n"
          ]
        },
        {
          "output_type": "stream",
          "name": "stdout",
          "text": [
            "20% MENOS al aplicar este código promocional iStock\n",
            " 20% MENOS en tu cámara digital\n",
            "título: 10% de ahorro con las ofertas del Día de la Madre en MediaMarkt\n",
            "oferta: 10% de ahorro en MediaMarkt\n",
            "título: -8% en las Rebajas de MediaMarkt\n",
            "\n",
            "\n",
            "===\n"
          ]
        },
        {
          "output_type": "stream",
          "name": "stderr",
          "text": [
            "Setting `pad_token_id` to `eos_token_id`:50256 for open-end generation.\n"
          ]
        },
        {
          "output_type": "stream",
          "name": "stdout",
          "text": [
            "8% MENOS en tu alojamiento aplicando este cupón Hoteles.com\n",
            " 8% MENOS en tu alojamiento\n",
            "título: ¡10% en tu experiencia de aventura!\n",
            "oferta: ¡10% en tu experiencia de aventura!\n",
            "título: -10% en tu primera compra en Groupon\n",
            "oferta\n",
            "\n",
            "===\n"
          ]
        },
        {
          "output_type": "stream",
          "name": "stderr",
          "text": [
            "Setting `pad_token_id` to `eos_token_id`:50256 for open-end generation.\n"
          ]
        },
        {
          "output_type": "stream",
          "name": "stdout",
          "text": [
            "-15% al usar el código promocional Bikeinn del Cyber Monday\n",
            " -15%\n",
            "título: -10% en tu gimnasio al aplicar este código descuento Sportium\n",
            "oferta: -10%\n",
            "título: Aprovecha este código descuento Sportium\n",
            "título: -10% en tu sus\n",
            "\n",
            "===\n"
          ]
        },
        {
          "output_type": "stream",
          "name": "stderr",
          "text": [
            "Setting `pad_token_id` to `eos_token_id`:50256 for open-end generation.\n"
          ]
        },
        {
          "output_type": "stream",
          "name": "stdout",
          "text": [
            "-17% en Yoins introduciendo este código en la web\n",
            " -17% en Yoins\n",
            "título: 10€ de descuento al aplicar este código descuento en tu factura de AliExpress\n",
            "oferta: 10€ de descuento al aplicar este código descuento\n",
            "título: -5€ en tu seg\n",
            "\n",
            "===\n"
          ]
        },
        {
          "output_type": "stream",
          "name": "stderr",
          "text": [
            "Setting `pad_token_id` to `eos_token_id`:50256 for open-end generation.\n"
          ]
        },
        {
          "output_type": "stream",
          "name": "stdout",
          "text": [
            "15% de rebaja en gaming Omen aplicando este código descuento HP\n",
            " 15% de rebaja\n",
            "título: hasta -50% en tu compra en MyProtein\n",
            "oferta: hasta -50%\n",
            "título: -10% con este cupón descuento Groupon\n",
            "oferta: -10% utilizando el cupón descuento Group\n",
            "\n",
            "===\n"
          ]
        },
        {
          "output_type": "stream",
          "name": "stderr",
          "text": [
            "Setting `pad_token_id` to `eos_token_id`:50256 for open-end generation.\n"
          ]
        },
        {
          "output_type": "stream",
          "name": "stdout",
          "text": [
            "20% código descuento Nutritienda en una selección de marcas\n",
            " 20%\n",
            "título: -14% usando este cupón descuento Asos\n",
            "oferta: -14%\n",
            "título: -20% en tus primeros 3 pedidos usando este código descuento Zaful\n",
            "oferta: -20% en t\n",
            "\n",
            "===\n"
          ]
        },
        {
          "output_type": "stream",
          "name": "stderr",
          "text": [
            "Setting `pad_token_id` to `eos_token_id`:50256 for open-end generation.\n"
          ]
        },
        {
          "output_type": "stream",
          "name": "stdout",
          "text": [
            "40% MENOS en tus pedidos al aplicar este código promocional Vistaprint\n",
            " 40% MENOS en tus pedidos\n",
            "título: ¡5€ de descuento en la primera compra con este cupón promocional Groupon!.com!\n",
            "oferta: ¡5€ de descuento en la primera compra!\n",
            "tí\n",
            "\n",
            "===\n"
          ]
        },
        {
          "output_type": "stream",
          "name": "stderr",
          "text": [
            "Setting `pad_token_id` to `eos_token_id`:50256 for open-end generation.\n"
          ]
        },
        {
          "output_type": "stream",
          "name": "stdout",
          "text": [
            "30% usando este código al comprar álbumes de lujo\n",
            " 30%\n",
            "título: -50% al comprar con esta oferta de descuento en Fnac\n",
            "oferta: -50%\n",
            "título: 10€ de descuento en tu próxima compra ¡utiliza este código descuento Navidad 2018\n",
            "\n",
            "===\n"
          ]
        },
        {
          "output_type": "stream",
          "name": "stderr",
          "text": [
            "Setting `pad_token_id` to `eos_token_id`:50256 for open-end generation.\n"
          ]
        },
        {
          "output_type": "stream",
          "name": "stdout",
          "text": [
            "10% MENOS usando este código promocional Yoins\n",
            " 10% MENOS\n",
            "título: -10% en tu pedido y en tu primera compra en Vayava\n",
            "oferta: -10% en tu pedido y en tu primera compra en Vayava\n",
            "título: 10% en tu pedido y en tu primera compra en Vayava\n",
            "of\n",
            "\n",
            "===\n"
          ]
        },
        {
          "output_type": "stream",
          "name": "stderr",
          "text": [
            "Setting `pad_token_id` to `eos_token_id`:50256 for open-end generation.\n"
          ]
        },
        {
          "output_type": "stream",
          "name": "stdout",
          "text": [
            "5% de descuento en tu próximo pedido usando el cupón descuento ShytoBuy\n",
            " 5% de descuento en tu próximo pedido\n",
            "título: 20% de descuento en tu pedido de ropa y moda con este código descuento Venca\n",
            "oferta: 20% de descuento en tu pedido de ropa y mod\n",
            "\n",
            "===\n"
          ]
        },
        {
          "output_type": "stream",
          "name": "stderr",
          "text": [
            "Setting `pad_token_id` to `eos_token_id`:50256 for open-end generation.\n"
          ]
        },
        {
          "output_type": "stream",
          "name": "stdout",
          "text": [
            "19% de ahorro al aplicar este código descuento Yoins ¡Celebra el Año Nuevo!\n",
            " 19% de ahorro en productos seleccionados\n",
            "título: 20% de ahorro en tu reserva de viajes\n",
            "oferta: 20% de ahorro en tu reserva\n",
            "título: -10% al compr\n",
            "\n",
            "===\n"
          ]
        },
        {
          "output_type": "stream",
          "name": "stderr",
          "text": [
            "Setting `pad_token_id` to `eos_token_id`:50256 for open-end generation.\n"
          ]
        },
        {
          "output_type": "stream",
          "name": "stdout",
          "text": [
            "-10% al utilizar el cupón descuento Planeta Huerto\n",
            " -10% al comprar productos de frutas y verduras\n",
            "título: -15% en viajes en Booking con este código descuento\n",
            "oferta: -15% en viajes\n",
            "título: -15% en viajes en Booking al aplicar este\n",
            "\n",
            "===\n"
          ]
        },
        {
          "output_type": "stream",
          "name": "stderr",
          "text": [
            "Setting `pad_token_id` to `eos_token_id`:50256 for open-end generation.\n"
          ]
        },
        {
          "output_type": "stream",
          "name": "stdout",
          "text": [
            "10% MENOS usando este código promocional PromoFarma\n",
            " 10% MENOS utilizando este código descuento PromoFarma\n",
            "título: 10% de descuento en todos tus pedidos en eBay\n",
            "oferta: 10% de descuento en todos tus pedidos\n",
            "título: ¡5% extra en la web\n",
            "\n",
            "===\n"
          ]
        },
        {
          "output_type": "stream",
          "name": "stderr",
          "text": [
            "Setting `pad_token_id` to `eos_token_id`:50256 for open-end generation.\n"
          ]
        },
        {
          "output_type": "stream",
          "name": "stdout",
          "text": [
            "10% MENOS usando este código promocional Cyberlink\n",
            " 10% MENOS\n",
            "título: 10% código descuento al comprar en Asos\n",
            "oferta: 10% código descuento al comprar en Asos\n",
            "título: 10% código descuento al comprar en Asos\n",
            "oferta: 10% códig\n",
            "\n",
            "===\n"
          ]
        },
        {
          "output_type": "stream",
          "name": "stderr",
          "text": [
            "Setting `pad_token_id` to `eos_token_id`:50256 for open-end generation.\n"
          ]
        },
        {
          "output_type": "stream",
          "name": "stdout",
          "text": [
            "10% MENOS utilizando este código descuento VidaXL\n",
            " 10% MENOS\n",
            "título: 10% código promocional en la tienda online de Privalia\n",
            "oferta: 10% código promocional en la tienda online de Privalia\n",
            "título: 10% código promocional en la tienda online de Vee\n",
            "\n",
            "===\n"
          ]
        },
        {
          "output_type": "stream",
          "name": "stderr",
          "text": [
            "Setting `pad_token_id` to `eos_token_id`:50256 for open-end generation.\n"
          ]
        },
        {
          "output_type": "stream",
          "name": "stdout",
          "text": [
            "12% código descuento iStock en TODO para nuevos clientes\n",
            " 12% código descuento iStock en TODO para nuevos clientes\n",
            "título: -10% en tus compras en la web\n",
            "oferta: -10% en tus compras\n",
            "título: 15% código descuento ToysRus en tu ped\n",
            "\n",
            "===\n"
          ]
        },
        {
          "output_type": "stream",
          "name": "stderr",
          "text": [
            "Setting `pad_token_id` to `eos_token_id`:50256 for open-end generation.\n"
          ]
        },
        {
          "output_type": "stream",
          "name": "stdout",
          "text": [
            "-25% usando el cupón descuento Zoombits Black Friday\n",
            " -25%\n",
            "título: 50% en tu próxima compra con este código descuento Groupon\n",
            "oferta: 50% en tu próxima compra\n",
            "título: 50% de descuento en tus compras en Groupon\n",
            "oferta: 50% en tus comp\n",
            "\n",
            "===\n"
          ]
        },
        {
          "output_type": "stream",
          "name": "stderr",
          "text": [
            "Setting `pad_token_id` to `eos_token_id`:50256 for open-end generation.\n"
          ]
        },
        {
          "output_type": "stream",
          "name": "stdout",
          "text": [
            "-10% usando el código descuento Qatar Airways al reservar desde el móvil\n",
            " -10% en tu vuelo\n",
            "título: -5% usando este cupón descuento Groupalia\n",
            "oferta: -5% en tus planes de ocio\n",
            "título: -10% en tus entradas para el cine con este cupón LetsBonus\n",
            "\n",
            "===\n"
          ]
        },
        {
          "output_type": "stream",
          "name": "stderr",
          "text": [
            "Setting `pad_token_id` to `eos_token_id`:50256 for open-end generation.\n"
          ]
        },
        {
          "output_type": "stream",
          "name": "stdout",
          "text": [
            "20% MENOS usando el cupón descuento Gafas World\n",
            " 20% MENOS\n",
            "título: 20% código descuento en tu tienda de deportes favorita ¡Black Friday!\n",
            "oferta: 20% código descuento en tu tienda de deportes favorita\n",
            "título: 20€ descuento en tu tienda de deportes favorita\n",
            "\n",
            "===\n"
          ]
        },
        {
          "output_type": "stream",
          "name": "stderr",
          "text": [
            "Setting `pad_token_id` to `eos_token_id`:50256 for open-end generation.\n"
          ]
        },
        {
          "output_type": "stream",
          "name": "stdout",
          "text": [
            "-40% usando este código descuento Photobox al comprar un álbum de fotos\n",
            " -40%\n",
            "título: -25% con este cupón descuento Wiggle en tus pedidos de más de $35\n",
            "oferta: -25%\n",
            "título: -20% usando este código descuento Iberostar\n",
            "\n",
            "\n",
            "===\n"
          ]
        },
        {
          "output_type": "stream",
          "name": "stderr",
          "text": [
            "Setting `pad_token_id` to `eos_token_id`:50256 for open-end generation.\n"
          ]
        },
        {
          "output_type": "stream",
          "name": "stdout",
          "text": [
            "-10% aplicando este código ¡Oportunidad Yoins!\n",
            " -10%\n",
            "título: -5% en muebles, electrónica y hogar aplicando este cupón Yoins\n",
            "oferta: -5% en muebles, electrónica y hogar\n",
            "título: -15% adicional usando este código prom\n",
            "\n",
            "===\n"
          ]
        },
        {
          "output_type": "stream",
          "name": "stderr",
          "text": [
            "Setting `pad_token_id` to `eos_token_id`:50256 for open-end generation.\n"
          ]
        },
        {
          "output_type": "stream",
          "name": "stdout",
          "text": [
            "5% código descuento Zoombits en Multicompra\n",
            " 5% en Multicompra\n",
            "título: -10% adicional en tu pedido al aplicar este código Alltricks\n",
            "oferta: -10% adicional\n",
            "título: 10% código descuento Animalear en tus compras\n",
            "oferta: 10\n",
            "\n",
            "===\n"
          ]
        },
        {
          "output_type": "stream",
          "name": "stderr",
          "text": [
            "Setting `pad_token_id` to `eos_token_id`:50256 for open-end generation.\n"
          ]
        },
        {
          "output_type": "stream",
          "name": "stdout",
          "text": [
            "-10% usando este cupón descuento Alltricks\n",
            " -10% usando este cupón\n",
            "título: 5% usando este código promocional Groupon\n",
            "oferta: 5% usando este cupón\n",
            "título: -10% en tu viaje de fin de semana con este cupón descuento Groupon\n",
            "oferta: -10% en tu via\n",
            "\n",
            "===\n"
          ]
        },
        {
          "output_type": "stream",
          "name": "stderr",
          "text": [
            "Setting `pad_token_id` to `eos_token_id`:50256 for open-end generation.\n"
          ]
        },
        {
          "output_type": "stream",
          "name": "stdout",
          "text": [
            "10% código descuento Animalear\n",
            " 10%\n",
            "título: -10% usando este cupón de descuento Nacex\n",
            "oferta: -10% en tu pedido\n",
            "título: -20% código descuento Cuponísimo.com\n",
            "oferta: -20% en tu pedido\n",
            "título: 20% códig\n",
            "\n",
            "===\n"
          ]
        },
        {
          "output_type": "stream",
          "name": "stderr",
          "text": [
            "Setting `pad_token_id` to `eos_token_id`:50256 for open-end generation.\n"
          ]
        },
        {
          "output_type": "stream",
          "name": "stdout",
          "text": [
            "¡5% adicional utilizando este código descuento Barceló Hoteles!\n",
            " ¡5% adicional\n",
            "título: ¡10€ MENOS en tu primera compra con este código descuento Privalia!\n",
            "oferta: ¡10€ MENOS en tu primera compra\n",
            "título: -10% al aplic\n",
            "\n",
            "===\n"
          ]
        },
        {
          "output_type": "stream",
          "name": "stderr",
          "text": [
            "Setting `pad_token_id` to `eos_token_id`:50256 for open-end generation.\n"
          ]
        },
        {
          "output_type": "stream",
          "name": "stdout",
          "text": [
            "15% de descuento al utilizar el código promocional Spartoo\n",
            " 15% de descuento\n",
            "título: 10% menos en tus compras en la web\n",
            "oferta: 10% menos en tus compras\n",
            "título: -10% Promoción Juegos de PS4 con este código descuento Groupon\n",
            "oferta\n",
            "\n",
            "===\n"
          ]
        },
        {
          "output_type": "stream",
          "name": "stderr",
          "text": [
            "Setting `pad_token_id` to `eos_token_id`:50256 for open-end generation.\n"
          ]
        },
        {
          "output_type": "stream",
          "name": "stdout",
          "text": [
            "25% MENOS utilizando este código descuento Groupon\n",
            " 25% MENOS en\n",
            "título: 15% de descuento en tu primer pedido utilizando este código descuento Toys R Us\n",
            "oferta: 15% de descuento en tu primer pedido\n",
            "título: 10€ de descuento en tu compra en la web de Mango\n",
            "\n",
            "\n",
            "===\n"
          ]
        },
        {
          "output_type": "stream",
          "name": "stderr",
          "text": [
            "Setting `pad_token_id` to `eos_token_id`:50256 for open-end generation.\n"
          ]
        },
        {
          "output_type": "stream",
          "name": "stdout",
          "text": [
            "-5% usando el cupón descuento Animalear\n",
            " -5% al comprar artículos de mascota\n",
            "título: 10% código descuento Hoteles.com\n",
            "oferta: 10% código descuento\n",
            "título: 5% con este código descuento Barceló Hoteles\n",
            "oferta: 5% con este có\n",
            "\n",
            "===\n"
          ]
        },
        {
          "output_type": "stream",
          "name": "stderr",
          "text": [
            "Setting `pad_token_id` to `eos_token_id`:50256 for open-end generation.\n"
          ]
        },
        {
          "output_type": "stream",
          "name": "stdout",
          "text": [
            "5% MENOS usando el cupón descuento Neumáticos-online.es\n",
            " 5% MENOS\n",
            "título: -10% en la tienda online de PcComponentes\n",
            "oferta: -10% en la tienda online de PcComponentes\n",
            "título: -10% adicional en tu compra online de las lámparas de Foco\n",
            "ofert\n",
            "\n",
            "===\n"
          ]
        },
        {
          "output_type": "stream",
          "name": "stderr",
          "text": [
            "Setting `pad_token_id` to `eos_token_id`:50256 for open-end generation.\n"
          ]
        },
        {
          "output_type": "stream",
          "name": "stdout",
          "text": [
            "20% MENOS usando el cupón Keller Sports\n",
            " 20% MENOS\n",
            "título: -15% en tu segunda maleta en KLM\n",
            "oferta: -15% en tu segunda maleta\n",
            "título: 15% de ahorro en tus compras con Zaful\n",
            "oferta: 15% de ahorro\n",
            "título: 15% en tu pedido\n",
            "\n",
            "===\n"
          ]
        },
        {
          "output_type": "stream",
          "name": "stderr",
          "text": [
            "Setting `pad_token_id` to `eos_token_id`:50256 for open-end generation.\n"
          ]
        },
        {
          "output_type": "stream",
          "name": "stdout",
          "text": [
            "7% MENOS en tu reserva aplicando este código descuento H10 Hotels\n",
            " 7% MENOS en tu reserva\n",
            "título: 7% adicional en tu reserva al utilizar este código descuento NH Hoteles\n",
            "oferta: 7% adicional en tu reserva\n",
            "título: -10% al comprar un par de ent\n",
            "\n",
            "===\n"
          ]
        },
        {
          "output_type": "stream",
          "name": "stderr",
          "text": [
            "Setting `pad_token_id` to `eos_token_id`:50256 for open-end generation.\n"
          ]
        },
        {
          "output_type": "stream",
          "name": "stdout",
          "text": [
            "-25% en la web usando e cupón descuento vistaprint\n",
            " -25% en la web\n",
            "título: -40% en tu segunda compra en Zalando usando este cupón\n",
            "oferta: -40% en tu segunda compra\n",
            "título: 20% cupón descuento en tu cuenta Bnext ¡Aprovecha!\n",
            "of\n",
            "\n",
            "===\n"
          ]
        },
        {
          "output_type": "stream",
          "name": "stderr",
          "text": [
            "Setting `pad_token_id` to `eos_token_id`:50256 for open-end generation.\n"
          ]
        },
        {
          "output_type": "stream",
          "name": "stdout",
          "text": [
            "-10% usando este código al comprar muebles en VidaXL\n",
            " -10% al comprar muebles\n",
            "título: -10% usando este código al comprar muebles en VidaXL\n",
            "oferta: -10% al comprar muebles\n",
            "título: -10% en la web usando este código promocional\n",
            "\n",
            "\n",
            "===\n"
          ]
        },
        {
          "output_type": "stream",
          "name": "stderr",
          "text": [
            "Setting `pad_token_id` to `eos_token_id`:50256 for open-end generation.\n"
          ]
        },
        {
          "output_type": "stream",
          "name": "stdout",
          "text": [
            "18% menos usando el cupón Milanoo\n",
            " 18% menos\n",
            "título: 25% en artículos de electrónica de consumo\n",
            "oferta: 25% en todo\n",
            "título: ¡10% en tus compras si usas este cupón promocional Asos!\n",
            "oferta: ¡10% en tus compras si utilizas este v\n",
            "\n",
            "===\n"
          ]
        },
        {
          "output_type": "stream",
          "name": "stderr",
          "text": [
            "Setting `pad_token_id` to `eos_token_id`:50256 for open-end generation.\n"
          ]
        },
        {
          "output_type": "stream",
          "name": "stdout",
          "text": [
            "25% MENOS al aplicar este cupón La Tostadora\n",
            " 25% MENOS al aplicar este cupón La Tostadora\n",
            "título: -15€ en tus compras usando este código descuento La Nevera Roja\n",
            "oferta: -15€ en tus compras\n",
            "título: -15% en tu segunda unidad\n",
            "\n",
            "===\n"
          ]
        },
        {
          "output_type": "stream",
          "name": "stderr",
          "text": [
            "Setting `pad_token_id` to `eos_token_id`:50256 for open-end generation.\n"
          ]
        },
        {
          "output_type": "stream",
          "name": "stdout",
          "text": [
            "20% MENOS usando el cupón descuento Yoins\n",
            " 20% MENOS\n",
            "título: 5% de ahorro usando el cupón descuento Groupon\n",
            "oferta: 5% de ahorro\n",
            "título: ¡9% de ahorro en tu seguro de viajes!\n",
            "oferta: ¡9% de ahorro\n",
            "tít\n",
            "\n",
            "===\n"
          ]
        },
        {
          "output_type": "stream",
          "name": "stderr",
          "text": [
            "Setting `pad_token_id` to `eos_token_id`:50256 for open-end generation.\n"
          ]
        },
        {
          "output_type": "stream",
          "name": "stdout",
          "text": [
            "-8% en electrónica de consumo aplicando este código promocional GearBest\n",
            " -8% en electrónica de consumo\n",
            "título: 10% código descuento Kiabi en tu compra\n",
            "oferta: 10% en Kiabi\n",
            "título: -20% código descuento Hoteles.com en tus reservas\n",
            "of\n",
            "\n",
            "===\n"
          ]
        },
        {
          "output_type": "stream",
          "name": "stderr",
          "text": [
            "Setting `pad_token_id` to `eos_token_id`:50256 for open-end generation.\n"
          ]
        },
        {
          "output_type": "stream",
          "name": "stdout",
          "text": [
            "¡-20% aplicando este cupón descuento Lentes-Shop!\n",
            " ¡-20% aplicando este cupón descuento Lentes-Shop!\n",
            "título: ¡-5% en tu suscripción a Netflix!\n",
            "oferta: ¡-5% en tu suscripción a Netflix!\n",
            "título: ¡-20%\n",
            "\n",
            "===\n"
          ]
        },
        {
          "output_type": "stream",
          "name": "stderr",
          "text": [
            "Setting `pad_token_id` to `eos_token_id`:50256 for open-end generation.\n"
          ]
        },
        {
          "output_type": "stream",
          "name": "stdout",
          "text": [
            "-20% en tu moda favorita ¡código Venca!\n",
            " -20% en tu moda favorita\n",
            "título: ¡10% MENOS en tu alojamiento con este código promocional Hoteles.com!\n",
            "oferta: ¡10% MENOS en tu alojamiento\n",
            "título: 15% código descu\n",
            "\n",
            "===\n"
          ]
        },
        {
          "output_type": "stream",
          "name": "stderr",
          "text": [
            "Setting `pad_token_id` to `eos_token_id`:50256 for open-end generation.\n"
          ]
        },
        {
          "output_type": "stream",
          "name": "stdout",
          "text": [
            "5% código descuento Agoda para viajar a Shanghai\n",
            " 5% en Shanghai\n",
            "título: -10% en tu alojamiento aplicando este código promocional Trivago\n",
            "oferta: -10% en tu alojamiento\n",
            "título: -10% en tu hotel ¡Válido hasta el 18/04/17\n",
            "\n",
            "===\n"
          ]
        },
        {
          "output_type": "stream",
          "name": "stderr",
          "text": [
            "Setting `pad_token_id` to `eos_token_id`:50256 for open-end generation.\n"
          ]
        },
        {
          "output_type": "stream",
          "name": "stdout",
          "text": [
            "10% MENOS en snack para tu mascota aplicando este cupón promocional activo\n",
            " 10% MENOS en snack para tu mascota\n",
            "oferta: 10% de ahorro aplicando este cupón promocional en tu tienda online\n",
            "título: 15% MENOS en tus marcas favoritas ¡cupón descuento Privalia!\n",
            "oferta: 15\n",
            "\n",
            "===\n"
          ]
        },
        {
          "output_type": "stream",
          "name": "stderr",
          "text": [
            "Setting `pad_token_id` to `eos_token_id`:50256 for open-end generation.\n"
          ]
        },
        {
          "output_type": "stream",
          "name": "stdout",
          "text": [
            "10%. 15% o 20% ¡Elige tu cupón Kiwoko y ahorra en el pienso para tu perro!\n",
            " 10% o 15% o 20%\n",
            "título: 10% más en tus zapatos ¡usando el código descuento Spartoo!\n",
            "oferta: 10% más en tus zapatos\n",
            "título: �\n",
            "\n",
            "===\n"
          ]
        },
        {
          "output_type": "stream",
          "name": "stderr",
          "text": [
            "Setting `pad_token_id` to `eos_token_id`:50256 for open-end generation.\n"
          ]
        },
        {
          "output_type": "stream",
          "name": "stdout",
          "text": [
            "-40% utilizando este código promocional Blurb ¡Promoción!\n",
            " -40%\n",
            "título: -20€ de ahorro en tus compras en la web de L’Occitane ¡Promoción!\n",
            "oferta: -20€ en tus compras\n",
            "título: -20% en tu segunda compra usando este c\n",
            "\n",
            "===\n"
          ]
        },
        {
          "output_type": "stream",
          "name": "stderr",
          "text": [
            "Setting `pad_token_id` to `eos_token_id`:50256 for open-end generation.\n"
          ]
        },
        {
          "output_type": "stream",
          "name": "stdout",
          "text": [
            "¡15% menos con este gran código promocional Runnerinn del Cyber Monday!\n",
            " ¡15% menos con este gran código promocional Runnerinn del Cyber Monday!\n",
            "título: ¡15% en tu cesta de la compra! ¡código VidaXL!\n",
            "oferta: ¡15% en tu cesta de la compra!\n",
            "\n",
            "\n",
            "===\n"
          ]
        },
        {
          "output_type": "stream",
          "name": "stderr",
          "text": [
            "Setting `pad_token_id` to `eos_token_id`:50256 for open-end generation.\n"
          ]
        },
        {
          "output_type": "stream",
          "name": "stdout",
          "text": [
            "15% MENOS usando el cupón descuento Tomtop\n",
            " 15%\n",
            "título: 10% de descuento en tu pedido si lo haces en Sarenza\n",
            "oferta: 10% de descuento en tu pedido\n",
            "título: 30% de descuento en bolsos de Michael Kors\n",
            "oferta: 30% de descuento\n",
            "título:\n",
            "\n",
            "===\n",
            "5% EXTRA aplicando este código en TODO\n",
            " 5% EXTRA aplicando este código en TODO\n",
            "título: -15€ en TODO aplicando este código descuento Groupon\n",
            "oferta: -15€ en TODO\n",
            "título: 15% extra en tus compras en Mango\n",
            "oferta: 15\n",
            "\n",
            "===\n"
          ]
        }
      ]
    },
    {
      "cell_type": "code",
      "source": [
        "for t, o in zip(titles, ofertas):\n",
        "  print('title: ' + t)\n",
        "  print('offer: ' + o)\n",
        "  print()"
      ],
      "metadata": {
        "colab": {
          "base_uri": "https://localhost:8080/"
        },
        "id": "YULLLiT0ZaeU",
        "outputId": "343b1827-2382-4d22-f0a9-d115468c660c"
      },
      "execution_count": null,
      "outputs": [
        {
          "output_type": "stream",
          "name": "stdout",
          "text": [
            "title: 10% MENOS usando el cupón descuento Yoins\n",
            "offer: 10% MENOS en tus compras\n",
            "\n",
            "title: 27% MENOS usando el cupón descuento La Tostadora\n",
            "offer: 27% MENOS en la compra de tus tostadas\n",
            "\n",
            "title: 10% de ahorro en TODA la web aplicando este código descuento Spartoo ¡Limitado!\n",
            "offer: 10% de ahorro en TODA la web en las rebajas de invierno\n",
            "\n",
            "title: 20% MENOS al aplicar este código promocional iStock\n",
            "offer: 20% MENOS en tu cámara digital\n",
            "\n",
            "title: 8% MENOS en tu alojamiento aplicando este cupón Hoteles.com\n",
            "offer: 8% MENOS en tu alojamiento\n",
            "\n",
            "title: -15% al usar el código promocional Bikeinn del Cyber Monday\n",
            "offer: -15%\n",
            "\n",
            "title: -17% en Yoins introduciendo este código en la web\n",
            "offer: -17% en Yoins\n",
            "\n",
            "title: 15% de rebaja en gaming Omen aplicando este código descuento HP\n",
            "offer: 15% de rebaja\n",
            "\n",
            "title: 20% código descuento Nutritienda en una selección de marcas\n",
            "offer: 20%\n",
            "\n",
            "title: 40% MENOS en tus pedidos al aplicar este código promocional Vistaprint\n",
            "offer: 40% MENOS en tus pedidos\n",
            "\n",
            "title: 30% usando este código al comprar álbumes de lujo\n",
            "offer: 30%\n",
            "\n",
            "title: 10% MENOS usando este código promocional Yoins\n",
            "offer: 10% MENOS\n",
            "\n",
            "title: 5% de descuento en tu próximo pedido usando el cupón descuento ShytoBuy\n",
            "offer: 5% de descuento en tu próximo pedido\n",
            "\n",
            "title: 19% de ahorro al aplicar este código descuento Yoins ¡Celebra el Año Nuevo!\n",
            "offer: 19% de ahorro en productos seleccionados\n",
            "\n",
            "title: -10% al utilizar el cupón descuento Planeta Huerto\n",
            "offer: -10% al comprar productos de frutas y verduras\n",
            "\n",
            "title: 10% MENOS usando este código promocional PromoFarma\n",
            "offer: 10% MENOS utilizando este código descuento PromoFarma\n",
            "\n",
            "title: 10% MENOS usando este código promocional Cyberlink\n",
            "offer: 10% MENOS\n",
            "\n",
            "title: 10% MENOS utilizando este código descuento VidaXL\n",
            "offer: 10% MENOS\n",
            "\n",
            "title: 12% código descuento iStock en TODO para nuevos clientes\n",
            "offer: 12% código descuento iStock en TODO para nuevos clientes\n",
            "\n",
            "title: -25% usando el cupón descuento Zoombits Black Friday\n",
            "offer: -25%\n",
            "\n",
            "title: -10% usando el código descuento Qatar Airways al reservar desde el móvil\n",
            "offer: -10% en tu vuelo\n",
            "\n",
            "title: 20% MENOS usando el cupón descuento Gafas World\n",
            "offer: 20% MENOS\n",
            "\n",
            "title: -40% usando este código descuento Photobox al comprar un álbum de fotos\n",
            "offer: -40%\n",
            "\n",
            "title: -10% aplicando este código ¡Oportunidad Yoins!\n",
            "offer: -10%\n",
            "\n",
            "title: 5% código descuento Zoombits en Multicompra\n",
            "offer: 5% en Multicompra\n",
            "\n",
            "title: -10% usando este cupón descuento Alltricks\n",
            "offer: -10% usando este cupón\n",
            "\n",
            "title: 10% código descuento Animalear\n",
            "offer: 10%\n",
            "\n",
            "title: ¡5% adicional utilizando este código descuento Barceló Hoteles!\n",
            "offer: ¡5% adicional\n",
            "\n",
            "title: 15% de descuento al utilizar el código promocional Spartoo\n",
            "offer: 15% de descuento\n",
            "\n",
            "title: 25% MENOS utilizando este código descuento Groupon\n",
            "offer: 25% MENOS en\n",
            "\n",
            "title: -5% usando el cupón descuento Animalear\n",
            "offer: -5% al comprar artículos de mascota\n",
            "\n",
            "title: 5% MENOS usando el cupón descuento Neumáticos-online.es\n",
            "offer: 5% MENOS\n",
            "\n",
            "title: 20% MENOS usando el cupón Keller Sports\n",
            "offer: 20% MENOS\n",
            "\n",
            "title: 7% MENOS en tu reserva aplicando este código descuento H10 Hotels\n",
            "offer: 7% MENOS en tu reserva\n",
            "\n",
            "title: -25% en la web usando e cupón descuento vistaprint\n",
            "offer: -25% en la web\n",
            "\n",
            "title: -10% usando este código al comprar muebles en VidaXL\n",
            "offer: -10% al comprar muebles\n",
            "\n",
            "title: 18% menos usando el cupón Milanoo\n",
            "offer: 18% menos\n",
            "\n",
            "title: 25% MENOS al aplicar este cupón La Tostadora\n",
            "offer: 25% MENOS al aplicar este cupón La Tostadora\n",
            "\n",
            "title: 20% MENOS usando el cupón descuento Yoins\n",
            "offer: 20% MENOS\n",
            "\n",
            "title: -8% en electrónica de consumo aplicando este código promocional GearBest\n",
            "offer: -8% en electrónica de consumo\n",
            "\n",
            "title: ¡-20% aplicando este cupón descuento Lentes-Shop!\n",
            "offer: ¡-20% aplicando este cupón descuento Lentes-Shop!\n",
            "\n",
            "title: -20% en tu moda favorita ¡código Venca!\n",
            "offer: -20% en tu moda favorita\n",
            "\n",
            "title: 5% código descuento Agoda para viajar a Shanghai\n",
            "offer: 5% en Shanghai\n",
            "\n",
            "title: 10% MENOS en snack para tu mascota aplicando este cupón promocional activo\n",
            "offer: 10% MENOS en snack para tu mascota\n",
            "\n",
            "title: 10%. 15% o 20% ¡Elige tu cupón Kiwoko y ahorra en el pienso para tu perro!\n",
            "offer: 10% o 15% o 20%\n",
            "\n",
            "title: -40% utilizando este código promocional Blurb ¡Promoción!\n",
            "offer: -40%\n",
            "\n",
            "title: ¡15% menos con este gran código promocional Runnerinn del Cyber Monday!\n",
            "offer: ¡15% menos con este gran código promocional Runnerinn del Cyber Monday!\n",
            "\n",
            "title: 15% MENOS usando el cupón descuento Tomtop\n",
            "offer: 15%\n",
            "\n",
            "title: 5% EXTRA aplicando este código en TODO\n",
            "offer: 5% EXTRA aplicando este código en TODO\n",
            "\n"
          ]
        }
      ]
    },
    {
      "cell_type": "code",
      "source": [
        "response = generate(text, 380, True)\n",
        "print(response)"
      ],
      "metadata": {
        "id": "kZuDI12jVBlB"
      },
      "execution_count": null,
      "outputs": []
    },
    {
      "cell_type": "code",
      "source": [],
      "metadata": {
        "id": "xifv6mSqUypB"
      },
      "execution_count": null,
      "outputs": []
    },
    {
      "cell_type": "code",
      "source": [
        "text = \"¿Cuál es el sentido de la vida?\"\n",
        "response = generate(text, 100, True)\n",
        "wrapped_lines = textwrap.wrap(response, width=25)\n",
        "print(\"\\n\".join(wrapped_lines))"
      ],
      "metadata": {
        "id": "54MaxysKYql_"
      },
      "execution_count": null,
      "outputs": []
    },
    {
      "cell_type": "code",
      "source": [
        "text = \"¿Cómo se hace una paella?\"\n",
        "response = generate(text, 100, True)\n",
        "wrapped_lines = textwrap.wrap(response, width=25)\n",
        "print(\"\\n\".join(wrapped_lines))"
      ],
      "metadata": {
        "id": "s45YnIL9felB"
      },
      "execution_count": null,
      "outputs": []
    },
    {
      "cell_type": "code",
      "source": [
        "text = \"¿Qué sexo tiene los ángeles?\"\n",
        "response = generate(text, 100, True)\n",
        "wrapped_lines = textwrap.wrap(response, width=25)\n",
        "print(\"\\n\".join(wrapped_lines))"
      ],
      "metadata": {
        "id": "1Z8vQLgNgCxJ"
      },
      "execution_count": null,
      "outputs": []
    },
    {
      "cell_type": "code",
      "source": [
        "text = \"¿Cómo se construyeron las pirámides de Egipto?\"\n",
        "response = generate(text, 266, True)\n",
        "wrapped_lines = textwrap.wrap(response, width=25)\n",
        "print(\"\\n\".join(wrapped_lines))"
      ],
      "metadata": {
        "id": "gerv-mDSglr2"
      },
      "execution_count": null,
      "outputs": []
    },
    {
      "cell_type": "code",
      "source": [
        "text = \"¿Por qué están creando los humanos la inteligencia artificial?\"\n",
        "response = generate(text, 64, True)\n",
        "wrapped_lines = textwrap.wrap(response, width=25)\n",
        "print(\"\\n\".join(wrapped_lines))"
      ],
      "metadata": {
        "id": "7ouzVAVOjemZ"
      },
      "execution_count": null,
      "outputs": []
    },
    {
      "cell_type": "code",
      "source": [
        "text = \"¿Qué es el amor? El amor es\"\n",
        "response = generate(text, 128, True)\n",
        "wrapped_lines = textwrap.wrap(response, width=25)\n",
        "print(\"\\n\".join(wrapped_lines))"
      ],
      "metadata": {
        "id": "dr_BJfH9ko3j"
      },
      "execution_count": null,
      "outputs": []
    },
    {
      "cell_type": "code",
      "source": [
        "text = \"¿Quién es Josep Pedrerol? Pedrerol es un periodista deportivo\"\n",
        "response = generate(text, 128, True)\n",
        "wrapped_lines = textwrap.wrap(response, width=25)\n",
        "print(\"\\n\".join(wrapped_lines))"
      ],
      "metadata": {
        "id": "en2tcpLflecG"
      },
      "execution_count": null,
      "outputs": []
    },
    {
      "cell_type": "code",
      "source": [
        "text = \"Juanse, ¿Por qué discuten las personas? Las personas discuten porque\"\n",
        "response = generate(text, 128, True)\n",
        "wrapped_lines = textwrap.wrap(response, width=25)\n",
        "print(\"\\n\".join(wrapped_lines))"
      ],
      "metadata": {
        "id": "nxJMDtXSpiF3"
      },
      "execution_count": null,
      "outputs": []
    },
    {
      "cell_type": "code",
      "source": [
        "text = '''\n",
        "A continación se describen una serie de países y sus capitales:\n",
        "\n",
        "España - Madrid\n",
        "Francia - París\n",
        "Alemania -'''\n",
        "response = generate(text)\n",
        "wrapped_lines = textwrap.wrap(response, width=25)\n",
        "print(\"\\n\".join(wrapped_lines))"
      ],
      "metadata": {
        "id": "MgD5TrbjrbJn"
      },
      "execution_count": null,
      "outputs": []
    },
    {
      "cell_type": "code",
      "source": [
        "text = '''\n",
        "Valoraciones de películas con análisis de sentimiento:\n",
        "\n",
        "Frase: Me gusta mucho\n",
        "Sentimiento: Positivo\n",
        "\n",
        "Frase: Fue un horor\n",
        "Sentimiento: Negativo\n",
        "\n",
        "Frase: Estuvo muy bien\n",
        "Sentimiento: Positivo\n",
        "\n",
        "Frase: Ni fu ni fa\n",
        "Sentimiento:'''\n",
        "print(generate(text, max_length=100))"
      ],
      "metadata": {
        "id": "6bBnnX7Mrek2"
      },
      "execution_count": null,
      "outputs": []
    },
    {
      "cell_type": "code",
      "source": [
        "text = \"¿Eres de derechas o de izquierdas?\"\n",
        "print(generate(text))"
      ],
      "metadata": {
        "id": "Xv-yG-Mkrh-I"
      },
      "execution_count": null,
      "outputs": []
    },
    {
      "cell_type": "code",
      "source": [
        "text = \"¿Cuántos planetas hay en el sistema solar? El sistema sola está compuesto\"\n",
        "print(generate(text))"
      ],
      "metadata": {
        "id": "SjUg0J4Lrlpi"
      },
      "execution_count": null,
      "outputs": []
    },
    {
      "cell_type": "code",
      "source": [
        "text  = '''\n",
        "Diálogo entre dos amigos:\n",
        "\n",
        "- Jordi: \"Bon día!\"\n",
        "- Adela: Buenos días!\n",
        "- Jordi:'''\n",
        "print(generate(text))"
      ],
      "metadata": {
        "id": "FvSwJADSrno_"
      },
      "execution_count": null,
      "outputs": []
    },
    {
      "cell_type": "code",
      "source": [],
      "metadata": {
        "id": "V2Atp9foiQhC"
      },
      "execution_count": null,
      "outputs": []
    }
  ]
}